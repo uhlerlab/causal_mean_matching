{
 "metadata": {
  "language_info": {
   "codemirror_mode": {
    "name": "ipython",
    "version": 3
   },
   "file_extension": ".py",
   "mimetype": "text/x-python",
   "name": "python",
   "nbconvert_exporter": "python",
   "pygments_lexer": "ipython3",
   "version": "3.6.12"
  },
  "orig_nbformat": 2,
  "kernelspec": {
   "name": "python3612jvsc74a57bd0d4369befa04dcba70353972ac114163baa25101c6e064fc4398db232d6c77199",
   "display_name": "Python 3.6.12 64-bit ('cellrepro': conda)"
  },
  "metadata": {
   "interpreter": {
    "hash": "aee8b7b246df8f9039afb4144a1f6fd8d2ca17a180786b69acc140d282b71a49"
   }
  }
 },
 "nbformat": 4,
 "nbformat_minor": 2,
 "cells": [
  {
   "cell_type": "code",
   "execution_count": 1,
   "metadata": {},
   "outputs": [],
   "source": [
    "import graphical_models as gm\n",
    "import numpy as np\n",
    "from visualize import draw\n",
    "\n",
    "from graphs import mean_match\n",
    "from policys import random_policy, clique_tree_policy, submodular_policy, oracle_policy, structure_policy"
   ]
  },
  {
   "cell_type": "code",
   "execution_count": 2,
   "metadata": {},
   "outputs": [
    {
     "output_type": "stream",
     "name": "stderr",
     "text": [
      "/Users/viczhang/miniconda3/envs/cellrepro/lib/python3.6/site-packages/graphical_models/custom_types.py:13: UserWarning: [Need name!] still needs to be tested. If you intend to use this method, please submit a pull request.\n",
      "  warn(s)\n",
      "there are no undirected edges\n",
      "3\n",
      "3\n",
      "3\n",
      "3\n"
     ]
    },
    {
     "output_type": "error",
     "ename": "NameError",
     "evalue": "name 'p' is not defined",
     "traceback": [
      "\u001b[0;31m---------------------------------------------------------------------------\u001b[0m",
      "\u001b[0;31mNameError\u001b[0m                                 Traceback (most recent call last)",
      "\u001b[0;32m<ipython-input-2-47f1c156f80c>\u001b[0m in \u001b[0;36m<module>\u001b[0;34m()\u001b[0m\n\u001b[1;32m     13\u001b[0m \u001b[0msubmoduler_ints\u001b[0m \u001b[0;34m=\u001b[0m \u001b[0msubmodular_policy\u001b[0m\u001b[0;34m(\u001b[0m\u001b[0mP\u001b[0m\u001b[0;34m,\u001b[0m \u001b[0msparse\u001b[0m\u001b[0;34m=\u001b[0m\u001b[0;36m1\u001b[0m\u001b[0;34m)\u001b[0m\u001b[0;34m\u001b[0m\u001b[0;34m\u001b[0m\u001b[0m\n\u001b[1;32m     14\u001b[0m \u001b[0mprint\u001b[0m\u001b[0;34m(\u001b[0m\u001b[0mlen\u001b[0m\u001b[0;34m(\u001b[0m\u001b[0msubmoduler_ints\u001b[0m\u001b[0;34m)\u001b[0m\u001b[0;34m)\u001b[0m\u001b[0;34m\u001b[0m\u001b[0;34m\u001b[0m\u001b[0m\n\u001b[0;32m---> 15\u001b[0;31m \u001b[0mp\u001b[0m\u001b[0;34m.\u001b[0m\u001b[0mreset\u001b[0m\u001b[0;34m(\u001b[0m\u001b[0;34m)\u001b[0m\u001b[0;34m\u001b[0m\u001b[0;34m\u001b[0m\u001b[0m\n\u001b[0m\u001b[1;32m     16\u001b[0m \u001b[0mstructure_ints\u001b[0m \u001b[0;34m=\u001b[0m \u001b[0mstructure_policy\u001b[0m\u001b[0;34m(\u001b[0m\u001b[0mP\u001b[0m\u001b[0;34m,\u001b[0m \u001b[0msparse\u001b[0m\u001b[0;34m=\u001b[0m\u001b[0;36m1\u001b[0m\u001b[0;34m)\u001b[0m\u001b[0;34m\u001b[0m\u001b[0;34m\u001b[0m\u001b[0m\n\u001b[1;32m     17\u001b[0m \u001b[0mprint\u001b[0m\u001b[0;34m(\u001b[0m\u001b[0mlen\u001b[0m\u001b[0;34m(\u001b[0m\u001b[0mstructure_ints\u001b[0m\u001b[0;34m)\u001b[0m\u001b[0;34m)\u001b[0m\u001b[0;34m\u001b[0m\u001b[0;34m\u001b[0m\u001b[0m\n",
      "\u001b[0;31mNameError\u001b[0m: name 'p' is not defined"
     ]
    }
   ],
   "source": [
    "P = mean_match(nnodes=10, sampler='barbasi_albert', sparse=3)\n",
    "draw(P.DAG, P.intervention, P.solved_intervention, P.remained_changed_nodes)\n",
    "P.reset()\n",
    "oracle_ints = oracle_policy(P, sparse=1)\n",
    "print(len(oracle_ints))\n",
    "P.reset()\n",
    "random_ints = random_policy(P, sparse=1)\n",
    "print(len(random_ints))\n",
    "P.reset()  \n",
    "clique_ints = clique_tree_policy(P, sparse=1) \n",
    "print(len(clique_ints))\n",
    "P.reset()  \n",
    "submoduler_ints = submodular_policy(P, sparse=1) \n",
    "print(len(submoduler_ints))\n",
    "P.reset()\n",
    "structure_ints = structure_policy(P, sparse=1)\n",
    "print(len(structure_ints))"
   ]
  },
  {
   "cell_type": "code",
   "execution_count": 3,
   "metadata": {},
   "outputs": [
    {
     "output_type": "execute_result",
     "data": {
      "text/plain": [
       "[{6}, {4}, {0}, {1}]"
      ]
     },
     "metadata": {},
     "execution_count": 3
    }
   ],
   "source": [
    "oracle_ints"
   ]
  },
  {
   "cell_type": "code",
   "execution_count": 56,
   "metadata": {
    "tags": []
   },
   "outputs": [
    {
     "output_type": "stream",
     "name": "stderr",
     "text": [
      "/Users/viczhang/miniconda3/envs/cellrepro/lib/python3.6/site-packages/graphical_models/custom_types.py:13: UserWarning: [Need name!] still needs to be tested. If you intend to use this method, please submit a pull request.\n",
      "  warn(s)\n",
      "###\n",
      "random :10=11.2\n",
      "clique :10=10.78\n",
      "submodular :10=10.73\n",
      "###\n",
      "random :20=10.66\n",
      "clique :20=10.54\n",
      "submodular :20=10.48\n",
      "###\n",
      "random :50=10.77\n",
      "clique :50=10.52\n",
      "submodular :50=10.49\n",
      "###\n",
      "random :100=10.56\n",
      "clique :100=10.36\n",
      "submodular :100=10.32\n"
     ]
    }
   ],
   "source": [
    "r_ints = {10:0, 20:0, 50:0, 100:0, 200:0, 500:0, 1000:0}\n",
    "c_ints = {10:0, 20:0, 50:0, 100:0, 200:0, 500:0, 1000:0}\n",
    "s_ints = {10:0, 20:0, 50:0, 100:0, 200:0, 500:0, 1000:0}\n",
    "repeat = 100\n",
    "\n",
    "for nnodes in [10, 20, 50, 100]:\n",
    "    for i in range(repeat):\n",
    "        P = mean_match(nnodes, sampler='barbasi_albert', sparse=min(10,nnodes))\n",
    "        P.reset()\n",
    "        random_ints = random_policy(P, sparse=1)\n",
    "        P.reset()  \n",
    "        clique_ints = clique_tree_policy(P, sparse=1) \n",
    "        P.reset()\n",
    "        submodular_ints = submodular_policy(P, sparse=1)\n",
    "        r_ints[nnodes] += len(random_ints)\n",
    "        c_ints[nnodes] += len(clique_ints)\n",
    "        s_ints[nnodes] += len(submodular_ints)\n",
    "        \n",
    "    print(\"###\")\n",
    "    print('random :{}={}'.format(nnodes, r_ints[nnodes]/repeat))\n",
    "    print('clique :{}={}'.format(nnodes, c_ints[nnodes]/repeat))    \n",
    "    print('submodular :{}={}'.format(nnodes, s_ints[nnodes]/repeat))"
   ]
  },
  {
   "cell_type": "code",
   "execution_count": null,
   "metadata": {},
   "outputs": [],
   "source": []
  }
 ]
}